{
 "cells": [
  {
   "cell_type": "code",
   "execution_count": 3,
   "id": "bf1068ea-8199-44b2-a592-3dbfd72a04b5",
   "metadata": {
    "tags": []
   },
   "outputs": [],
   "source": [
    "from pint import UnitRegistry\n",
    "import numpy as np\n",
    "import matplotlib.pyplot as plt\n",
    "from scipy.optimize import curve_fit\n",
    "import ipywidgets as widgets\n",
    "from ipywidgets import interactive"
   ]
  },
  {
   "cell_type": "code",
   "execution_count": 4,
   "id": "5e8c84fb-80a2-40c6-917e-4ec525fd327d",
   "metadata": {
    "tags": []
   },
   "outputs": [
    {
     "name": "stdout",
     "output_type": "stream",
     "text": [
      "Ag coat\n",
      "250 ng\n",
      "11 pmol\n",
      "\n",
      "start Ab\n",
      "10 ng\n",
      "625 fmol\n"
     ]
    }
   ],
   "source": [
    "ureg = UnitRegistry()\n",
    "# coat with 50 uL 5ug/mL mucin (200 AA peptide. 22kDa)\n",
    "# wash and then 50 uL nanobody (25 kDa) (start 0.2 ug/mL og serie del med 2 10 gange og tilføj 0 (12 punkter i alt))\n",
    "# wash and then 50 uL seconday \n",
    "\n",
    "print(\"Ag coat\")\n",
    "mass_mucin = ((50E-6 * ureg.liter) * ((5E-6 * ureg.gram) / (1E-3* ureg.liter)))\n",
    "print(f\"{mass_mucin:.0f~#P}\")\n",
    "\n",
    "moles_mucin = mass_mucin / (22E3 * ureg.g /ureg.mole)\n",
    "print(f\"{moles_mucin:.0f~#P}\")\n",
    "\n",
    "print()\n",
    "print(\"start Ab\")\n",
    "mass_Ab = ((50E-6 * ureg.liter) * ((0.2E-6 * ureg.gram) / (1E-3* ureg.liter)))\n",
    "print(f\"{mass_Ab:.0f~#P}\")\n",
    "\n",
    "moles_Ab = mass_Ab / (16E3 * ureg.g /ureg.mole)\n",
    "print(f\"{moles_Ab:.0f~#P}\")"
   ]
  },
  {
   "cell_type": "code",
   "execution_count": null,
   "id": "60dceee0-1871-4e25-afc6-8444e7fa9f6f",
   "metadata": {
    "tags": []
   },
   "outputs": [],
   "source": []
  },
  {
   "cell_type": "code",
   "execution_count": 43,
   "id": "6caca9e9-66cf-4194-b921-3f9debec0d86",
   "metadata": {},
   "outputs": [
    {
     "data": {
      "application/vnd.jupyter.widget-view+json": {
       "model_id": "6b1e8ab2605d47758d25aaee130c74d9",
       "version_major": 2,
       "version_minor": 0
      },
      "text/plain": [
       "interactive(children=(FloatSlider(value=1e-07, description='Kd [nM]', max=1e-07, min=1e-12, readout_format='.2…"
      ]
     },
     "metadata": {},
     "output_type": "display_data"
    },
    {
     "data": {
      "text/plain": [
       "<function __main__.plot_hyperbola(kd, coat, max_ab)>"
      ]
     },
     "execution_count": 43,
     "metadata": {},
     "output_type": "execute_result"
    }
   ],
   "source": [
    "def rect_hyperbola(x, Bmax, Kd):\n",
    "    return Bmax * x / (Kd + x)\n",
    "\n",
    "default_kd = 100e-9\n",
    "default_coat = 1e-9\n",
    "default_max_ab = 6e-6\n",
    "default_ab_concentrations = np.array([default_max_ab/3**(x-1) for x in range(1,12)])\n",
    "default_frac_bound = (default_coat * default_ab_concentrations / (default_coat + default_kd + default_ab_concentrations))/default_coat\n",
    "\n",
    "def plot_hyperbola(kd, coat, max_ab):\n",
    "    Kd = kd#*1e-9\n",
    "    Coat = coat#*1e-9\n",
    "    Max_ab = max_ab#*1e-9\n",
    "    ab_concentrations = np.array([Max_ab/3**(x-1) for x in range(1,12)])\n",
    "    frac_bound = (Coat * ab_concentrations / (Coat + Kd + ab_concentrations))/Coat\n",
    "    \n",
    "    params, cov = curve_fit(rect_hyperbola, ab_concentrations, frac_bound)#, p0=(Max_ab, Kd))\n",
    "    #params, cov = curve_fit(rect_hyperbola, ab_concentrations, frac_bound)\n",
    "    plt.plot(ab_concentrations, frac_bound, 'o', label='Data')\n",
    "    plt.plot(default_ab_concentrations, default_frac_bound, 'x', label='default')\n",
    "    all_xs = np.array(sorted([*list(default_ab_concentrations), *list(ab_concentrations)]))\n",
    "    plt.plot(all_xs, rect_hyperbola(all_xs, *params), '-', label=f'Fit, kd:{params[1]:.3}')\n",
    "    plt.xlabel('Nanobody Concentration (nM)')\n",
    "    plt.ylabel('Fraction of Receptor Bound to Antigen')\n",
    "    plt.semilogx()\n",
    "    plt.vlines(Kd, min([*frac_bound, *default_frac_bound]), max([*frac_bound, *default_frac_bound]), 'r', linestyles=\"dashed\")\n",
    "    plt.vlines(params[1], min([*frac_bound, *default_frac_bound]), max([*frac_bound, *default_frac_bound]), linestyles=\"dashed\")\n",
    "    plt.title('Antibody-Antigen Binding Saturation ELISA')\n",
    "    plt.legend()\n",
    "    plt.show()\n",
    "\n",
    "widgets.interact(plot_hyperbola,\n",
    "                 kd=widgets.FloatSlider(min=1e-12, max=100e-9, step=1e-12, value=default_kd, description=\"Kd [nM]\", readout_format='.2e'),\n",
    "                 coat=widgets.FloatSlider(min=1e-12, max=1e-9, step=1e-12, value=default_coat, description=\"antigen [nM]\", readout_format='.3e'),\n",
    "                 max_ab=widgets.FloatSlider(min=1e-9, max=100e-6, step=1e-10, value=default_max_ab, description=\"Max AB conc [nM]\", readout_format='.3e')\n",
    "                )"
   ]
  },
  {
   "cell_type": "code",
   "execution_count": null,
   "id": "8fd7ba0f-8fa6-4449-ae84-05b8052ab52b",
   "metadata": {},
   "outputs": [],
   "source": []
  }
 ],
 "metadata": {
  "kernelspec": {
   "display_name": "Python 3 (ipykernel)",
   "language": "python",
   "name": "python3"
  },
  "language_info": {
   "codemirror_mode": {
    "name": "ipython",
    "version": 3
   },
   "file_extension": ".py",
   "mimetype": "text/x-python",
   "name": "python",
   "nbconvert_exporter": "python",
   "pygments_lexer": "ipython3",
   "version": "3.12.4"
  }
 },
 "nbformat": 4,
 "nbformat_minor": 5
}
